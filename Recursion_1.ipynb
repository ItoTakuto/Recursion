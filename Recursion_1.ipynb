{
 "cells": [
  {
   "cell_type": "markdown",
   "metadata": {},
   "source": [
    "# Recursion Practice Problems (1): Solutions"
   ]
  },
  {
   "cell_type": "markdown",
   "metadata": {},
   "source": [
    "## Problem 1\n",
    "\n",
    "リストに関する処理は, 全て再帰を用いて書き直すことが可能です.  \n",
    "ループやsum()メソッドを使わずに, 与えられた整数のリストの合計を再帰的に計算する関数 **calcSumRecursion** を定義してください.\n",
    "\n",
    "e.g.)   \n",
    "Input - [1, 2, 3, 4, 5, 6, 7, 8, 9, 10]  \n",
    "Output - 55"
   ]
  },
  {
   "cell_type": "code",
   "execution_count": 5,
   "metadata": {},
   "outputs": [],
   "source": [
    "def calcSumRecursion(n):\n",
    "    if len(n) == 0:\n",
    "        return 0\n",
    "    elif len(n) == 1 : \n",
    "        return n[0]\n",
    "    else :\n",
    "        return n[0] + calcSumRecursion(n[1:])\n",
    "        "
   ]
  },
  {
   "cell_type": "markdown",
   "metadata": {},
   "source": [
    "### Driver Code\n",
    "\n",
    "以下のセルを実行し, 上記で定義した関数をテストしてみましょう. "
   ]
  },
  {
   "cell_type": "code",
   "execution_count": 4,
   "metadata": {},
   "outputs": [
    {
     "name": "stdout",
     "output_type": "stream",
     "text": [
      "Sum of [1, 2, 3, 4, 5, 6, 7, 8, 9, 10]: 55\n",
      "Sum of [5]: 5\n",
      "Sum of []: 0\n"
     ]
    }
   ],
   "source": [
    "print('Sum of [1, 2, 3, 4, 5, 6, 7, 8, 9, 10]:', calcSumRecursion([1, 2, 3, 4, 5, 6, 7, 8, 9, 10]))\n",
    "print('Sum of [5]:', calcSumRecursion([5]))\n",
    "print('Sum of []:', calcSumRecursion([]))"
   ]
  },
  {
   "cell_type": "markdown",
   "metadata": {},
   "source": [
    "## Problem 2\n",
    "\n",
    "ある整数 **x** とソートされた整数のリストが与えられたときに, 2分探索を行い, リスト内に **x** が見つかればそのインデックスを返す関数 **binarySearch** を実装してください. ただし, 必要に応じて引数は追加してよいとします.  \n",
    "\n",
    "e.g.)    \n",
    "Input - x: 27, lst: [0, 1, 2, 3, 4, 5, 7, 11, 18, 19, 22, 27]   \n",
    "Output: 11"
   ]
  },
  {
   "cell_type": "code",
   "execution_count": 12,
   "metadata": {},
   "outputs": [
    {
     "name": "stdout",
     "output_type": "stream",
     "text": [
      "index of 27: 11\n",
      "index of 27: 6\n"
     ]
    }
   ],
   "source": [
    "lst = [0, 1, 2, 3, 4, 5, 7, 11, 18, 19, 22, 27]\n",
    "def binarySearch(x, lst, right, left):\n",
    "    pass\n",
    "    if x in lst[right : left//2] :\n",
    "        return lst.index(x)\n",
    "    else :\n",
    "        if x in lst[left//2 :left] :\n",
    "            return lst.index(x)\n",
    "print(\"index of 27:\",binarySearch(27, lst, 0, len(lst)))\n",
    "print(\"index of 27:\",binarySearch(7, lst, 0, len(lst)))"
   ]
  },
  {
   "cell_type": "markdown",
   "metadata": {},
   "source": [
    "### Driver Code\n",
    "\n",
    "以下のセルを実行し, 上記で定義した関数をテストしてみましょう. "
   ]
  },
  {
   "cell_type": "code",
   "execution_count": 13,
   "metadata": {},
   "outputs": [
    {
     "name": "stdout",
     "output_type": "stream",
     "text": [
      "Index of 19: 9\n",
      "Index of 30: None\n"
     ]
    }
   ],
   "source": [
    "lst = [0, 1, 2, 3, 4, 5, 7, 11, 18, 19, 22, 27]\n",
    "print('Index of 19:', binarySearch(19, lst, 0, len(lst)-1))\n",
    "print('Index of 30:', binarySearch(30, lst, 0, len(lst)-1))"
   ]
  },
  {
   "cell_type": "markdown",
   "metadata": {},
   "source": [
    "## Problem 3\n",
    "\n",
    "与えられたリストを **マージソート** (再帰的なソートアルゴリズム) を用いてソートする関数 **mergeSort** を定義してください.  \n",
    "https://www.hackerearth.com/ja/practice/algorithms/sorting/merge-sort/visualize/  \n",
    "\n",
    "e.g.)  \n",
    "Input - [4, 19, 3, 18, 27, 5, 2, 7, 11, 22, 0, 1]  \n",
    "Output - [0, 1, 2, 3, 4, 5, 7, 11, 18, 19, 22, 27]"
   ]
  },
  {
   "cell_type": "code",
   "execution_count": 14,
   "metadata": {},
   "outputs": [
    {
     "ename": "SyntaxError",
     "evalue": "invalid syntax (<ipython-input-14-a5a56377474f>, line 7)",
     "output_type": "error",
     "traceback": [
      "\u001b[0;36m  File \u001b[0;32m\"<ipython-input-14-a5a56377474f>\"\u001b[0;36m, line \u001b[0;32m7\u001b[0m\n\u001b[0;31m    return lst[0], lst[len(lst)] = lst[len(lst)] ,lst[0]\u001b[0m\n\u001b[0m                                 ^\u001b[0m\n\u001b[0;31mSyntaxError\u001b[0m\u001b[0;31m:\u001b[0m invalid syntax\n"
     ]
    }
   ],
   "source": [
    "def mergeSort(lst):\n",
    "    pass\n",
    "    if lst == [] :\n",
    "        return \"リストが空です\"\n",
    "    else :\n",
    "        if lst[0] > lst[len(lst)]  :\n",
    "            return lst[0], lst[len(lst)] = lst[len(lst)] ,lst[0] \n",
    "        "
   ]
  },
  {
   "cell_type": "markdown",
   "metadata": {},
   "source": [
    "### Driver Code\n",
    "\n",
    "以下のセルを実行し, 上記で定義した関数をテストしてみましょう. "
   ]
  },
  {
   "cell_type": "code",
   "execution_count": 11,
   "metadata": {},
   "outputs": [
    {
     "name": "stdout",
     "output_type": "stream",
     "text": [
      "Before sorting: [4, 19, 3, 18, 27, 5, 2, 7, 11, 22, 0, 1]\n"
     ]
    },
    {
     "ename": "NameError",
     "evalue": "name 'mergeSort' is not defined",
     "output_type": "error",
     "traceback": [
      "\u001b[0;31m---------------------------------------------------------------------------\u001b[0m",
      "\u001b[0;31mNameError\u001b[0m                                 Traceback (most recent call last)",
      "\u001b[0;32m<ipython-input-11-450a38d451e7>\u001b[0m in \u001b[0;36m<module>\u001b[0;34m\u001b[0m\n\u001b[1;32m      1\u001b[0m \u001b[0mlst\u001b[0m \u001b[0;34m=\u001b[0m \u001b[0;34m[\u001b[0m\u001b[0;36m4\u001b[0m\u001b[0;34m,\u001b[0m \u001b[0;36m19\u001b[0m\u001b[0;34m,\u001b[0m \u001b[0;36m3\u001b[0m\u001b[0;34m,\u001b[0m \u001b[0;36m18\u001b[0m\u001b[0;34m,\u001b[0m \u001b[0;36m27\u001b[0m\u001b[0;34m,\u001b[0m \u001b[0;36m5\u001b[0m\u001b[0;34m,\u001b[0m \u001b[0;36m2\u001b[0m\u001b[0;34m,\u001b[0m \u001b[0;36m7\u001b[0m\u001b[0;34m,\u001b[0m \u001b[0;36m11\u001b[0m\u001b[0;34m,\u001b[0m \u001b[0;36m22\u001b[0m\u001b[0;34m,\u001b[0m \u001b[0;36m0\u001b[0m\u001b[0;34m,\u001b[0m \u001b[0;36m1\u001b[0m\u001b[0;34m]\u001b[0m\u001b[0;34m\u001b[0m\u001b[0;34m\u001b[0m\u001b[0m\n\u001b[1;32m      2\u001b[0m \u001b[0mprint\u001b[0m\u001b[0;34m(\u001b[0m\u001b[0;34m'Before sorting:'\u001b[0m\u001b[0;34m,\u001b[0m \u001b[0mlst\u001b[0m\u001b[0;34m)\u001b[0m\u001b[0;34m\u001b[0m\u001b[0;34m\u001b[0m\u001b[0m\n\u001b[0;32m----> 3\u001b[0;31m \u001b[0mmergeSort\u001b[0m\u001b[0;34m(\u001b[0m\u001b[0mlst\u001b[0m\u001b[0;34m)\u001b[0m\u001b[0;34m\u001b[0m\u001b[0;34m\u001b[0m\u001b[0m\n\u001b[0m\u001b[1;32m      4\u001b[0m \u001b[0mprint\u001b[0m\u001b[0;34m(\u001b[0m\u001b[0;34m'After sorting:'\u001b[0m\u001b[0;34m,\u001b[0m \u001b[0mlst\u001b[0m\u001b[0;34m)\u001b[0m\u001b[0;34m\u001b[0m\u001b[0;34m\u001b[0m\u001b[0m\n",
      "\u001b[0;31mNameError\u001b[0m: name 'mergeSort' is not defined"
     ]
    }
   ],
   "source": [
    "lst = [4, 19, 3, 18, 27, 5, 2, 7, 11, 22, 0, 1]\n",
    "print('Before sorting:', lst)\n",
    "mergeSort(lst)\n",
    "print('After sorting:', lst)"
   ]
  },
  {
   "cell_type": "markdown",
   "metadata": {},
   "source": [
    "## Problem 4\n",
    "\n",
    "ハノイの塔の途中経過をプリントする関数 **towerOfHanoi** を定義してください. "
   ]
  },
  {
   "cell_type": "code",
   "execution_count": null,
   "metadata": {},
   "outputs": [],
   "source": [
    "def towerOfHanoi(w,x,y,z): \n",
    "    pass\n",
    "    "
   ]
  },
  {
   "cell_type": "markdown",
   "metadata": {},
   "source": [
    "### Driver Code\n",
    "\n",
    "以下のセルを実行し, 上記で定義した関数をテストしてみましょう. "
   ]
  },
  {
   "cell_type": "code",
   "execution_count": null,
   "metadata": {},
   "outputs": [],
   "source": [
    "# n = 3\n",
    "# towerOfHanoi(n, 'A', 'C', 'B')  "
   ]
  }
 ],
 "metadata": {
  "kernelspec": {
   "display_name": "Python 3",
   "language": "python",
   "name": "python3"
  },
  "language_info": {
   "codemirror_mode": {
    "name": "ipython",
    "version": 3
   },
   "file_extension": ".py",
   "mimetype": "text/x-python",
   "name": "python",
   "nbconvert_exporter": "python",
   "pygments_lexer": "ipython3",
   "version": "3.7.3"
  }
 },
 "nbformat": 4,
 "nbformat_minor": 2
}
